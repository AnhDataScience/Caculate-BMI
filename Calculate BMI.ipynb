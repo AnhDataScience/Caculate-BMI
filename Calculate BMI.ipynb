{
 "cells": [
  {
   "cell_type": "code",
   "execution_count": 4,
   "id": "377ff6e9",
   "metadata": {},
   "outputs": [
    {
     "name": "stdout",
     "output_type": "stream",
     "text": [
      "Nhap can nang theo kg: 42\n",
      "Nhap chieu cao theo m: 1.63\n",
      "BMI:  15.807896420640597\n",
      "Gay cap do III\n"
     ]
    }
   ],
   "source": [
    "# BMI = can nang/(chieu cao^2)\n",
    "\n",
    "cannang = float(input('Nhap can nang theo kg: '))\n",
    "chieucao = float(input('Nhap chieu cao theo m: '))\n",
    "BMI = cannang/(chieucao*chieucao)\n",
    "print('BMI: ', BMI)\n",
    "\n",
    "if BMI < 16 :\n",
    "    print(\"Gay cap do III\")\n",
    "elif 16 <= BMI < 17: \n",
    "    print(\"Gay cap do II\")\n",
    "elif 17 <= BMI < 18.5: \n",
    "    print(\"Gay cap do I\")\n",
    "elif 18.5 <= BMI < 25: \n",
    "    print(\"Binh thuong\")\n",
    "elif 25 <= BMI < 30: \n",
    "    print(\"Thua can\")\n",
    "elif 30 <= BMI < 35: \n",
    "    print(\"Beo phi cap do I\")\n",
    "elif 35 <= BMI < 40: \n",
    "    print(\"Beo phi cap do II\")\n",
    "else: \n",
    "    print(\"Beo phi cap do III\")"
   ]
  }
 ],
 "metadata": {
  "kernelspec": {
   "display_name": "Python 3 (ipykernel)",
   "language": "python",
   "name": "python3"
  },
  "language_info": {
   "codemirror_mode": {
    "name": "ipython",
    "version": 3
   },
   "file_extension": ".py",
   "mimetype": "text/x-python",
   "name": "python",
   "nbconvert_exporter": "python",
   "pygments_lexer": "ipython3",
   "version": "3.9.13"
  }
 },
 "nbformat": 4,
 "nbformat_minor": 5
}
